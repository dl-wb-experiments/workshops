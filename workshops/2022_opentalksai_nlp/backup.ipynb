{
 "cells": [
  {
   "cell_type": "code",
   "execution_count": null,
   "id": "27e83e52-37e1-4bbf-934b-0b1d62b4e583",
   "metadata": {
    "tags": []
   },
   "outputs": [],
   "source": [
    "def add_toxicity_attribute(list_of_tweets):\n",
    "    for tweet in list_of_tweets:\n",
    "        tweet.toxicity = predict_dynamic(tweet.tweet)"
   ]
  },
  {
   "cell_type": "code",
   "execution_count": null,
   "id": "be5f1227-fe2e-470d-8f2d-e94ae24ba056",
   "metadata": {
    "tags": []
   },
   "outputs": [],
   "source": [
    "from collections import Counter\n",
    "\n",
    "\n",
    "def count_twitter_users_toxic_tweets(username, number_of_tweets):\n",
    "    # scrape the most popular tweets of the user\n",
    "    tweets = scrape_tweets(\n",
    "        username=username,\n",
    "        limit=number_of_tweets,\n",
    "        popular_tweets=True\n",
    "    )\n",
    "    \n",
    "    # apply a toxicity classifier\n",
    "    add_toxicity_attribute(tweets)\n",
    "    \n",
    "    # count a number of tweets for each class\n",
    "    tweets_count = Counter(tweet.toxicity for tweet in tweets)\n",
    "    \n",
    "    # convert the result to dict and return it\n",
    "    return tweets_count"
   ]
  },
  {
   "cell_type": "code",
   "execution_count": null,
   "id": "cdb207f0-0e9b-4fe8-9171-a92dddae393b",
   "metadata": {},
   "outputs": [],
   "source": [
    "def get_curated_trends_tweets(trend, limit=100)\n",
    "    # clean previously scraped tweets\n",
    "    twint.output.clean_lists()\n",
    "    \n",
    "    # scrape trended tweets, get most popular tweets for a trend\n",
    "    trends_tweets = scrape_tweets(search=trend, popular_tweets=True, limit=limit)\n",
    "    \n",
    "    # add toxicity predictions \n",
    "    add_toxicity_attribute(trend_tweets)\n",
    "    \n",
    "    # filter toxic tweets\n",
    "    filtered_tweets = [tweet for tweet in trend_tweets if tweet.toxicity == \"neutral\"]\n",
    "    \n",
    "    # print number of filtered tweets\n",
    "    filtered = len(trends_tweets) - len(filtered_tweets)\n",
    "    print(f\"{} of toxic tweets is filtered\")\n",
    "    \n",
    "    return filtered_tweets"
   ]
  },
  {
   "cell_type": "code",
   "execution_count": null,
   "id": "a0c6d61a-3d4e-47c3-ad60-48cc11c1485c",
   "metadata": {},
   "outputs": [],
   "source": [
    "curated_tweets = get_curated_trends_tweets(trend)\n",
    "\n",
    "for tweet in sorted(curated_tweets, key=lambda tweet: tweet.datetime):\n",
    "    print()\n",
    "    print(tweet.tweet)\n",
    "    print(\"=\" * 100)"
   ]
  }
 ],
 "metadata": {
  "kernelspec": {
   "display_name": "openvino_notebooks",
   "language": "python",
   "name": "openvino_notebooks"
  },
  "language_info": {
   "codemirror_mode": {
    "name": "ipython",
    "version": 3
   },
   "file_extension": ".py",
   "mimetype": "text/x-python",
   "name": "python",
   "nbconvert_exporter": "python",
   "pygments_lexer": "ipython3",
   "version": "3.8.10"
  }
 },
 "nbformat": 4,
 "nbformat_minor": 5
}
