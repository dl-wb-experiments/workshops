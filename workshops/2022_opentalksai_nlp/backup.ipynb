{
 "cells": [
  {
   "cell_type": "code",
   "execution_count": null,
   "id": "6ccc9f5a-4875-42cf-ad34-2095d3d6f191",
   "metadata": {
    "tags": []
   },
   "outputs": [],
   "source": [
    "def scrape_tweets(\n",
    "    search=None,\n",
    "    username=None,\n",
    "    limit=20,\n",
    "    since=None,  # yyyy-mm-dd\n",
    "    until=None,  # yyyy-mm-dd\n",
    "    filter_retweets=True,\n",
    "    popular_tweets=False,\n",
    "    include_links=True,\n",
    "    **kwargs,\n",
    "):\n",
    "    # clean previously scraped tweets\n",
    "    twint.output.clean_lists()\n",
    "    \n",
    "    config = twint.Config()\n",
    "    \n",
    "    config.Limit = limit\n",
    "    config.Hide_output = True\n",
    "    config.Username = username\n",
    "    config.Search = search\n",
    "    config.Store_object = True\n",
    "    config.Filter_retweets = filter_retweets\n",
    "    config.Since = since\n",
    "    config.Until = until\n",
    "    config.Popular_tweets = popular_tweets\n",
    "    config.Links = \"include\" if include_links else \"exclude\"\n",
    "    \n",
    "    \n",
    "    for attribute, value in kwargs.items():\n",
    "        setattr(config, attribute, value)\n",
    "\n",
    "    twint.run.Search(config)\n",
    "    \n",
    "    return list(twint.output.tweets_list)"
   ]
  },
  {
   "cell_type": "code",
   "execution_count": null,
   "id": "27e83e52-37e1-4bbf-934b-0b1d62b4e583",
   "metadata": {
    "tags": []
   },
   "outputs": [],
   "source": [
    "def add_toxicity_attribute(list_of_tweets):\n",
    "    for tweet in list_of_tweets:\n",
    "        tweet.toxicity = predict_dynamic(tweet.tweet)"
   ]
  },
  {
   "cell_type": "code",
   "execution_count": null,
   "id": "be5f1227-fe2e-470d-8f2d-e94ae24ba056",
   "metadata": {
    "tags": []
   },
   "outputs": [],
   "source": [
    "from collections import Counter\n",
    "\n",
    "\n",
    "def count_twitter_users_toxic_tweets(username, number_of_tweets):\n",
    "    # scrape the most popular tweets of the user\n",
    "    tweets = scrape_tweets(\n",
    "        username=username,\n",
    "        limit=number_of_tweets,\n",
    "        popular_tweets=True\n",
    "    )\n",
    "    \n",
    "    # apply a toxicity classifier\n",
    "    add_toxicity_attribute(tweets)\n",
    "    \n",
    "    # count a number of tweets for each class\n",
    "    tweets_count = Counter(tweet.toxicity for tweet in tweets)\n",
    "    \n",
    "    # convert the result to dict and return it\n",
    "    return tweets_count"
   ]
  },
  {
   "cell_type": "code",
   "execution_count": null,
   "id": "cdb207f0-0e9b-4fe8-9171-a92dddae393b",
   "metadata": {},
   "outputs": [],
   "source": [
    "def get_curated_trends_tweets(trend, limit=100)\n",
    "    # clean previously scraped tweets\n",
    "    \n",
    "    twint.output.clean_lists()\n",
    "    \n",
    "    # scrape trended tweets, get most popular tweets for a trend\n",
    "    trends_tweets = scrape_tweets(search=trend, popular_tweets=True, limit=limit)\n",
    "    \n",
    "    # add toxicity predictions \n",
    "    add_toxicity_attribute(trend_tweets)\n",
    "    \n",
    "    # filter toxic tweets\n",
    "    filtered_tweets = [tweet for tweet in trend_tweets if tweet.toxicity == \"neutral\"]\n",
    "    \n",
    "    # print number of filtered tweets\n",
    "    filtered = len(trends_tweets) - len(filtered_tweets)\n",
    "    print(f\"{} of toxic tweets is filtered\")\n",
    "    \n",
    "    return filtered_tweets"
   ]
  },
  {
   "cell_type": "code",
   "execution_count": null,
   "id": "a0c6d61a-3d4e-47c3-ad60-48cc11c1485c",
   "metadata": {},
   "outputs": [],
   "source": [
    "curated_tweets = get_curated_trends_tweets(trend)\n",
    "\n",
    "for tweet in sorted(currated_tweets, key=lambda tweet: tweet.datetime):\n",
    "    print(tweet.tweet)"
   ]
  },
  {
   "cell_type": "code",
   "execution_count": null,
   "id": "15600b76-a0b9-4ff9-9ba1-78bbed924b01",
   "metadata": {},
   "outputs": [],
   "source": []
  },
  {
   "cell_type": "code",
   "execution_count": null,
   "id": "51bebfdb-d8e7-4dfc-8831-ec4d9b77c645",
   "metadata": {},
   "outputs": [],
   "source": []
  },
  {
   "cell_type": "code",
   "execution_count": null,
   "id": "2240aa61-4db3-4d3e-9b0a-1fd5521729bf",
   "metadata": {},
   "outputs": [],
   "source": []
  },
  {
   "cell_type": "code",
   "execution_count": null,
   "id": "4cf93dd1-9c7f-4c61-952f-a56d11012755",
   "metadata": {},
   "outputs": [],
   "source": []
  },
  {
   "cell_type": "code",
   "execution_count": null,
   "id": "baba9d5d-6090-4470-b91d-2ad2c6693156",
   "metadata": {},
   "outputs": [],
   "source": []
  },
  {
   "cell_type": "code",
   "execution_count": null,
   "id": "fae49cd5-d0f3-4bfd-92ab-e5a6ab99da35",
   "metadata": {},
   "outputs": [],
   "source": []
  }
 ],
 "metadata": {
  "kernelspec": {
   "display_name": "openvino_notebooks",
   "language": "python",
   "name": "openvino_notebooks"
  },
  "language_info": {
   "codemirror_mode": {
    "name": "ipython",
    "version": 3
   },
   "file_extension": ".py",
   "mimetype": "text/x-python",
   "name": "python",
   "nbconvert_exporter": "python",
   "pygments_lexer": "ipython3",
   "version": "3.8.10"
  }
 },
 "nbformat": 4,
 "nbformat_minor": 5
}
